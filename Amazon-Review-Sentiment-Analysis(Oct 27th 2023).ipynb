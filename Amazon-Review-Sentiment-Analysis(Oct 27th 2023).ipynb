{
  "nbformat": 4,
  "nbformat_minor": 0,
  "metadata": {
    "colab": {
      "provenance": []
    },
    "kernelspec": {
      "name": "python3",
      "display_name": "Python 3"
    },
    "language_info": {
      "name": "python"
    }
  },
  "cells": [
    {
      "cell_type": "code",
      "execution_count": null,
      "metadata": {
        "id": "7N3pb3TEr7jJ"
      },
      "outputs": [],
      "source": [
        "!python3 -m pip install matplotlib\n",
        "!python3 -m pip install scipy\n",
        "!python3 -m pip install scikit-learn\n",
        "\n",
        "import numpy.random\n",
        "from sklearn import linear_model\n",
        "import matplotlib.pyplot\n",
        "from mpl_toolkits.mplot3d import Axes3D\n",
        "import pandas as pd\n",
        "from collections import Counter\n",
        "import re\n",
        "import numpy as np"
      ]
    },
    {
      "cell_type": "code",
      "source": [
        "df = pd.read_csv('amazonFood 2.csv')\n",
        "df = df.iloc[:1000, :]"
      ],
      "metadata": {
        "id": "5oOROSjmwn29"
      },
      "execution_count": null,
      "outputs": []
    },
    {
      "cell_type": "code",
      "source": [
        "df"
      ],
      "metadata": {
        "id": "EDDWVJyE22Jq"
      },
      "execution_count": null,
      "outputs": []
    },
    {
      "cell_type": "code",
      "source": [
        "id_to_var = {}\n",
        "var_counter = 0\n",
        "\n",
        "for product_id in df['ProductId'].unique():\n",
        "    if var_counter < 26:\n",
        "        var = chr(ord('a') + var_counter)\n",
        "    else:\n",
        "        var = chr(ord('a') + (var_counter % 26)) + str(var_counter // 26)\n",
        "\n",
        "    id_to_var[product_id] = var\n",
        "    var_counter += 1\n",
        "\n",
        "for product_id, product_name in zip(df['ProductId'], df['productName']):\n",
        "    print(f\"Product Id: {product_id}, Product Name: {product_name}, Variable: {id_to_var[product_id]}\")"
      ],
      "metadata": {
        "id": "EhNJCvNF0PYZ"
      },
      "execution_count": null,
      "outputs": []
    },
    {
      "cell_type": "code",
      "source": [
        "from sklearn.feature_extraction.text import TfidfVectorizer\n",
        "product_var_count = {var: 0 for var in id_to_var.values()}\n",
        "product_var_occurrences = {var: 0 for var in id_to_var.values()}\n",
        "\n",
        "words = {'Negative': ['Not', 'Didn’t', 'Bad', 'Slow', 'Worst', 'Sucks', 'Sicks', 'Grossed', 'Disgust', 'Horrible'],\n",
        "         'Positive': ['Good', 'Great', 'Fast', 'Amazing', 'Like', 'Delight', 'Right', 'Tasty', 'Huge', 'Big', 'Glad', 'happy']}\n",
        "text_list = []\n",
        "for index, row in df.iterrows():\n",
        "    product_id = row['ProductId']\n",
        "    text = row['Text'].lower()\n",
        "    text_list.append(text)\n",
        "    product_var = id_to_var[product_id]\n",
        "    for word in words['Negative']:\n",
        "        if word.lower() in text:\n",
        "            product_var_count[product_var] -= 1\n",
        "            product_var_occurrences[product_var] += 1\n",
        "    for word in words['Positive']:\n",
        "        if word.lower() in text:\n",
        "            product_var_count[product_var] += 1\n",
        "            product_var_occurrences[product_var] += 1\n",
        "\n",
        "for product_id, product_name in zip(df['ProductId'], df['productName']):\n",
        "    var = id_to_var[product_id]\n",
        "    count = product_var_count[var]\n",
        "    print(f\"Product Id: {product_id}, Product Name: {product_name}, Variable: {var}, Count: {count}\")\n",
        "\n"
      ],
      "metadata": {
        "id": "fDcZF_Ly9KTP"
      },
      "execution_count": null,
      "outputs": []
    },
    {
      "cell_type": "code",
      "source": [
        "product_var_occurrences = {var: 0 for var in id_to_var.values()}\n",
        "product_names = dict(zip(df['ProductId'], df['productName']))\n",
        "\n",
        "sum_scores = {}\n",
        "for var in product_var_count:\n",
        "    occurrences = product_var_occurrences[var]\n",
        "    sum_scores[var] = product_var_count[var]\n",
        "\n",
        "sum_of_scores_list = []\n",
        "for var in sum_scores:\n",
        "    product_id = next(key for key, value in id_to_var.items() if value == var)\n",
        "    product_name = product_names[product_id]\n",
        "    sum_of_scores = sum_scores[var]\n",
        "    sum_of_scores_list.append(sum_of_scores)\n",
        "    print(f\"Variable: {var}, Product Name: {product_name}, Sum of Scores: {sum_of_scores}\")\n",
        "\n",
        "print(\"Sum of Scores List:\", sum_of_scores_list)\n"
      ],
      "metadata": {
        "id": "qybCTtBAMVdp"
      },
      "execution_count": null,
      "outputs": []
    },
    {
      "cell_type": "code",
      "source": [
        "from sklearn.feature_extraction.text import TfidfVectorizer\n",
        "from sklearn import linear_model\n",
        "\n",
        "product_names = dict(zip(df['ProductId'], df['productName']))\n",
        "\n",
        "vectorizer = TfidfVectorizer()\n",
        "text_list_vectorized = vectorizer.fit_transform(text_list)\n",
        "print(text_list_vectorized)\n",
        "\n",
        "model = linear_model.LinearRegression()\n",
        "model.fit(text_list_vectorized[:198], sum_of_scores_list[:198])\n",
        "new_text = \"This cereal has no artificial sweeteners, is high in fiber, but has a great taste (A hard combination to find)\"\n",
        "new_text_vectorized = vectorizer.transform([new_text])\n",
        "confidence_percentage = model.predict(new_text_vectorized)\n",
        "print(f\"Confidence Percentage for New Text: {confidence_percentage}\")"
      ],
      "metadata": {
        "id": "8ygcsv90OzEd"
      },
      "execution_count": null,
      "outputs": []
    },
    {
      "cell_type": "code",
      "source": [],
      "metadata": {
        "id": "gFKZ9WPYGSfj"
      },
      "execution_count": null,
      "outputs": []
    },
    {
      "cell_type": "code",
      "source": [],
      "metadata": {
        "id": "GpVX7W2ZEexy"
      },
      "execution_count": null,
      "outputs": []
    }
  ]
}